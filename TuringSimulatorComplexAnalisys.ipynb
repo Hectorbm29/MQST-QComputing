{
 "cells": [
  {
   "cell_type": "code",
   "execution_count": 3,
   "id": "ca1e9040",
   "metadata": {},
   "outputs": [],
   "source": [
    "\n",
    "import numpy as np\n",
    "\n",
    "\n",
    "class TuringMachine:\n",
    " \n",
    "   #initialize the Turing Machine, read the program and input\n",
    "   def __init__(self, program, input_tape, N, state=0):\n",
    "     self.trf = {}\n",
    "     self.state = str(state)\n",
    "     self.tape = ''.join(['_']*N)\n",
    "     self.head = N // 2   # head is positioned in the middle\n",
    "     self.tape = self.tape[:self.head] + input_tape + self.tape[self.head:]\n",
    "     for line in program.splitlines():\n",
    "       s, a, r, d, s1 = line.split(' ')\n",
    "       self.trf[s,a] = (r, d, s1)\n",
    "\n",
    "   #step through a program\n",
    "   def step(self,counter):\n",
    "     if self.state != 'H':\n",
    "        # assert self.head >= 0 and self.head < len(self.tape) here\n",
    "        a = self.tape[self.head]\n",
    "        action = self.trf.get((self.state, a))\n",
    "        if action:\n",
    "           r, d, s1 = action\n",
    "           self.tape = self.tape[:self.head] + r + self.tape[self.head+1:]\n",
    "           if d != '*':\n",
    "              self.head = self.head + (1 if d == 'r' else -1)\n",
    "           self.state = s1\n",
    "           #if counter%1000==0:\n",
    "               #print(self.tape.replace('_', ''), self.state,counter)\n",
    "               #print(self.tape, self.state,counter)\n",
    "           #print(self.tape.replace('_', ''), self.state,counter)\n",
    "           #print(self.tape, self.state,counter)\n",
    " \n",
    "   #run a program\n",
    "   def run(self, max_iter=9999999999,counter=0):\n",
    "      iter = 0\n",
    "      while self.state != 'H' and iter < max_iter: # prevent infinite loop\n",
    "          self.step(counter)\n",
    "          iter += 1\n",
    "          counter=iter\n",
    "      #print(self.tape, self.state, iter)\n",
    "      #print(self.tape.replace('_', ''), self.state,iter)\n",
    "      return iter"
   ]
  },
  {
   "cell_type": "code",
   "execution_count": 6,
   "id": "684e97a7",
   "metadata": {},
   "outputs": [],
   "source": [
    "N = 1000 # tape length, initialize to a large value if you need it\n",
    "numax = 2**9\n",
    "\n",
    "program = open('4.2prog_factoring.txt').read()\n",
    "\n",
    "\n",
    "complexity = []\n",
    "filename = 'complexity.txt'\n",
    "file = open(filename,'a')\n",
    "\n",
    "for i in range(4,numax):\n",
    "    input_tape = format(i,'b')\n",
    "    tm = TuringMachine(program, input_tape, N)\n",
    "    steps = tm.run()\n",
    "    pair = [i,len(input_tape),steps]\n",
    "    complexity.append(pair)\n",
    "    file.write(str(i))\n",
    "    file.write(',')\n",
    "    file.write(str(len(input_tape)))\n",
    "    file.write(',')\n",
    "    file.write(str(steps))\n",
    "    file.write('\\n')\n",
    "    file.close()\n",
    "    file = open(filename,'a')\n",
    "        \n",
    "    \n",
    "file.close()\n",
    "complexity = np.array(complexity)"
   ]
  },
  {
   "cell_type": "code",
   "execution_count": 7,
   "id": "a97c4416",
   "metadata": {},
   "outputs": [
    {
     "data": {
      "text/plain": [
       "<matplotlib.collections.PathCollection at 0x2c7a42cd400>"
      ]
     },
     "execution_count": 7,
     "metadata": {},
     "output_type": "execute_result"
    },
    {
     "data": {
      "image/png": "[encoded data removed]",
      "text/plain": [
       "<Figure size 640x480 with 1 Axes>"
      ]
     },
     "metadata": {},
     "output_type": "display_data"
    }
   ],
   "source": [
    "from matplotlib import pyplot as plt\n",
    "\n",
    "plt.scatter(complexity[:,1],complexity[:,2])\n",
    "#plt.yscale('log')"
   ]
  }
 ],
 "metadata": {
  "kernelspec": {
   "display_name": "Python 3 (ipykernel)",
   "language": "python",
   "name": "python3"
  },
  "language_info": {
   "codemirror_mode": {
    "name": "ipython",
    "version": 3
   },
   "file_extension": ".py",
   "mimetype": "text/x-python",
   "name": "python",
   "nbconvert_exporter": "python",
   "pygments_lexer": "ipython3",
   "version": "3.9.15"
  }
 },
 "nbformat": 4,
 "nbformat_minor": 5
}
